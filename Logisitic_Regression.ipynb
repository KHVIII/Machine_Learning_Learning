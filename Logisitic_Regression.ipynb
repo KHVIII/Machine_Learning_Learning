{
  "nbformat": 4,
  "nbformat_minor": 0,
  "metadata": {
    "kernelspec": {
      "display_name": "Python 3",
      "language": "python",
      "name": "python3"
    },
    "language_info": {
      "codemirror_mode": {
        "name": "ipython",
        "version": 3
      },
      "file_extension": ".py",
      "mimetype": "text/x-python",
      "name": "python",
      "nbconvert_exporter": "python",
      "pygments_lexer": "ipython3",
      "version": "3.8.2-final"
    },
    "colab": {
      "name": "Logisitic Regression.ipynb",
      "provenance": [],
      "collapsed_sections": [
        "MYVEgla9mYOB",
        "d-uh4KnvmYOD"
      ]
    }
  },
  "cells": [
    {
      "cell_type": "code",
      "metadata": {
        "collapsed": true,
        "id": "BP8ER5IwmYNr"
      },
      "source": [
        "# Import Important Libraries\n",
        "import sklearn\n",
        "from sklearn.datasets import load_breast_cancer # taking included data set from Sklearn http://scikit-learn.org/stable/modules/generated/sklearn.datasets.load_breast_cancer.html\n",
        "from sklearn.linear_model import LogisticRegression # importing Sklearn's logistic regression's module\n",
        "from sklearn import preprocessing # preprossing is what we do with the data before we run the learning algorithm\n",
        "from sklearn.model_selection import train_test_split \n",
        "from sklearn.model_selection import KFold\n",
        "\n",
        "import numpy as np\n",
        "# import math\n",
        "import math\n",
        "\n",
        "import matplotlib.pyplot as plt\n",
        "%matplotlib inline"
      ],
      "execution_count": null,
      "outputs": []
    },
    {
      "cell_type": "markdown",
      "metadata": {
        "id": "DLP52cVdmYNt"
      },
      "source": [
        "# Loading the data set.\n",
        "\n",
        "In the below code cell, you will load the data from sklearn using the method given. Check import statements and use the given function"
      ]
    },
    {
      "cell_type": "code",
      "metadata": {
        "collapsed": true,
        "id": "q722FUPtmYNt"
      },
      "source": [
        "\n",
        "cancer = load_breast_cancer()"
      ],
      "execution_count": null,
      "outputs": []
    },
    {
      "cell_type": "code",
      "metadata": {
        "colab": {
          "base_uri": "https://localhost:8080/"
        },
        "id": "JVyql1YSmYNv",
        "outputId": "b60516d6-a075-45f9-9af6-6f6993febb87"
      },
      "source": [
        "# VERIFY - Print the shape of data and target\n",
        "print('Q01 - cancer.target.shape: ', cancer.target.shape)\n",
        "print('Q01 - cancer.data.shape: ', cancer.data.shape)\n"
      ],
      "execution_count": null,
      "outputs": [
        {
          "output_type": "stream",
          "name": "stdout",
          "text": [
            "Q01 - cancer.target.shape:  (569,)\n",
            "Q01 - cancer.data.shape:  (569, 30)\n"
          ]
        },
        {
          "output_type": "execute_result",
          "data": {
            "text/plain": [
              "numpy.ndarray"
            ]
          },
          "metadata": {},
          "execution_count": 9
        }
      ]
    },
    {
      "cell_type": "markdown",
      "metadata": {
        "id": "Wh4CdotJmYNw"
      },
      "source": [
        "# Data Pre-Processing\n",
        "Scale before splitting the data into train and test since we will be using gradient ascent. \n",
        "* Use `preprocessing` to scale the data. \n",
        "* Assign the target of cancer to variable `y (<np.ndarray>)`.\n",
        "* Use `train_test_split` to split the data (`75% train` and `25% test`) to `X_train`, `X_test`, `y_train`, `y_test` with `random_state` of 42\n",
        "* Reshape `y_train` into 2D array `y_2d_train` and `y_test` into 2D array `y_2d_test`"
      ]
    },
    {
      "cell_type": "code",
      "metadata": {
        "collapsed": true,
        "id": "khIqQZCsmYNx"
      },
      "source": [
        "\n",
        "X_unscaled = cancer.data.copy()\n",
        "y = cancer.target.copy()\n",
        "\n",
        "X_train, X_test, y_train, y_test = train_test_split(X_unscaled, y, random_state=42)\n",
        "\n",
        "#scaling x \n",
        "scaler = preprocessing.StandardScaler()\n",
        "X_train= scaler.fit_transform(X_train)\n",
        "X_test = scaler.transform(X_test)\n",
        "\n",
        "\n",
        "y_2d_train = y_train.reshape(y_train.shape[0],1)\n",
        "y_2d_test = y_test.reshape(y_test.shape[0],1)"
      ],
      "execution_count": null,
      "outputs": []
    },
    {
      "cell_type": "code",
      "metadata": {
        "colab": {
          "base_uri": "https://localhost:8080/"
        },
        "id": "m7-z6FWPmYNz",
        "outputId": "3cef88b4-64a0-4657-8c9f-eeec3566eecb"
      },
      "source": [
        "# VERIFY - Print the shape of X_train and y_2d_train\n",
        "print('Q02 - X_train.shape: ', X_train.shape)\n",
        "print('Q02 - y_2d_train.shape: ', y_2d_train.shape)"
      ],
      "execution_count": null,
      "outputs": [
        {
          "output_type": "stream",
          "name": "stdout",
          "text": [
            "Q02 - X_train.shape:  (426, 30)\n",
            "Q02 - y_2d_train.shape:  (426, 1)\n"
          ]
        }
      ]
    },
    {
      "cell_type": "code",
      "metadata": {
        "colab": {
          "base_uri": "https://localhost:8080/"
        },
        "id": "xOSdZvs1mYNz",
        "outputId": "0ab16783-b3c1-4edc-a324-e867a5f55ae3"
      },
      "source": [
        "# VERIFY - Printing the names of all the features\n",
        "print('Q02 - cancer.feature_names: ', cancer.feature_names)"
      ],
      "execution_count": null,
      "outputs": [
        {
          "output_type": "stream",
          "name": "stdout",
          "text": [
            "Q02 - cancer.feature_names:  ['mean radius' 'mean texture' 'mean perimeter' 'mean area'\n",
            " 'mean smoothness' 'mean compactness' 'mean concavity'\n",
            " 'mean concave points' 'mean symmetry' 'mean fractal dimension'\n",
            " 'radius error' 'texture error' 'perimeter error' 'area error'\n",
            " 'smoothness error' 'compactness error' 'concavity error'\n",
            " 'concave points error' 'symmetry error' 'fractal dimension error'\n",
            " 'worst radius' 'worst texture' 'worst perimeter' 'worst area'\n",
            " 'worst smoothness' 'worst compactness' 'worst concavity'\n",
            " 'worst concave points' 'worst symmetry' 'worst fractal dimension']\n"
          ]
        }
      ]
    },
    {
      "cell_type": "markdown",
      "metadata": {
        "id": "CC4k3CnrmYN0"
      },
      "source": [
        "# Implementing Logistic Regression Using Gradient Ascent"
      ]
    },
    {
      "cell_type": "code",
      "metadata": {
        "collapsed": true,
        "id": "MClHHowQmYN0"
      },
      "source": [
        "# Write the sigmoid function\n",
        "def sigmoid(z):\n",
        "    result = 1/(1+math.exp(-z))\n",
        "    return result"
      ],
      "execution_count": null,
      "outputs": []
    },
    {
      "cell_type": "code",
      "metadata": {
        "colab": {
          "base_uri": "https://localhost:8080/"
        },
        "id": "-PQN3vMxmYN1",
        "outputId": "8568b53d-fade-4664-f8bf-b86e2f90ab73"
      },
      "source": [
        "# VERIFY - Sigmoid of 0 should be equal to half\n",
        "print('Q03 - sigmoid(0): ', sigmoid(0))"
      ],
      "execution_count": null,
      "outputs": [
        {
          "output_type": "stream",
          "name": "stdout",
          "text": [
            "Q03 - sigmoid(0):  0.5\n"
          ]
        }
      ]
    },
    {
      "cell_type": "code",
      "metadata": {
        "id": "pbTyH5CimYN1"
      },
      "source": [
        "# Append a column of ones to X_train\n",
        "# ones is a  vector of shape n,1\n",
        "ones = np.ones((X_train.shape[0],1))\n",
        "# Append a column of ones in the beginning of X_train an save in variable X_train_1(<np.ndarray>).\n",
        "X_train_1 = np.hstack((ones,X_train))"
      ],
      "execution_count": null,
      "outputs": []
    },
    {
      "cell_type": "code",
      "metadata": {
        "colab": {
          "base_uri": "https://localhost:8080/"
        },
        "id": "OROl3urCmYN2",
        "outputId": "26a1e4f0-fe8c-48e2-dd9c-8897757481da"
      },
      "source": [
        "# VERIFY\n",
        "print('Q04 - X_train_1.shape: ', X_train_1.shape)\n",
        "print('Q04 - X_train_1: ', X_train_1)"
      ],
      "execution_count": null,
      "outputs": [
        {
          "output_type": "stream",
          "name": "stdout",
          "text": [
            "Q04 - X_train_1.shape:  (426, 31)\n",
            "Q04 - X_train_1:  [[ 1.         -0.34913849 -1.43851335 ... -0.91671059 -0.92508585\n",
            "  -0.80841115]\n",
            " [ 1.         -0.20468665  0.31264011 ...  1.43655962  1.14955889\n",
            "   1.56911143]\n",
            " [ 1.         -0.32931176 -0.21507235 ... -0.7237126   0.53496977\n",
            "  -0.61934827]\n",
            " ...\n",
            " [ 1.          0.04739597 -0.56293662 ... -1.23262438 -0.68282718\n",
            "  -1.261137  ]\n",
            " [ 1.         -0.04040808  0.09966199 ...  1.08847951  0.48944465\n",
            "   1.26159953]\n",
            " [ 1.         -0.5502381   0.31264011 ... -0.59582424 -0.29911546\n",
            "  -0.82948141]]\n"
          ]
        }
      ]
    },
    {
      "cell_type": "code",
      "metadata": {
        "id": "lA81cQo7mYN2"
      },
      "source": [
        "# Initialize Parameter Vector w to a zero matrix with shape (X_train_1.shape[1],1)\n",
        "w_init = np.zeros((X_train_1.shape[1],1))"
      ],
      "execution_count": null,
      "outputs": []
    },
    {
      "cell_type": "code",
      "metadata": {
        "colab": {
          "base_uri": "https://localhost:8080/"
        },
        "id": "MTGjTfEzmYN3",
        "outputId": "024d819f-2c8e-4b91-c188-8ee91f420a41"
      },
      "source": [
        "# VERIFY\n",
        "print('Q05 - w_init.shape: ', w_init.shape)"
      ],
      "execution_count": null,
      "outputs": [
        {
          "output_type": "stream",
          "name": "stdout",
          "text": [
            "Q05 - w_init.shape:  (31, 1)\n"
          ]
        }
      ]
    },
    {
      "cell_type": "code",
      "metadata": {
        "collapsed": true,
        "id": "A0IGXwt2mYN3"
      },
      "source": [
        "# Write the hypothesis function\n",
        "#I am heavily assuming what you want is the Possibility function, not the actual yhat which is gonna be either 0 or 1, so I am writing that instead.\n",
        "def hypothesis(X_train_1, w):\n",
        "    v_sigmoid = np.vectorize(sigmoid)\n",
        "    y_hat = v_sigmoid(np.dot(X_train_1,w))\n",
        "    return y_hat"
      ],
      "execution_count": null,
      "outputs": []
    },
    {
      "cell_type": "code",
      "metadata": {
        "id": "V1sszEZKmYN4"
      },
      "source": [
        "# Compute y_hat(<np.ndarray>) using X_train_1 and w_init\n",
        "y_hat_init = hypothesis(X_train_1,w_init)"
      ],
      "execution_count": null,
      "outputs": []
    },
    {
      "cell_type": "markdown",
      "metadata": {
        "id": "GblNpRy_mYN5"
      },
      "source": [
        "# Likelihood Function.\n",
        "Write the code to calculate the log likelihood as discussed in the class."
      ]
    },
    {
      "cell_type": "code",
      "metadata": {
        "collapsed": true,
        "id": "o8iKNucDmYN5"
      },
      "source": [
        "# Write the log likelihood function\n",
        "def likelihood(X_tr, y_tr, w, n):\n",
        "    y_hat = hypothesis(X_tr,w)\n",
        "    likelihood = ((y_tr * np.log(y_hat)) + ((1-y_tr) * np.log(1-y_hat))).sum() \n",
        "    return likelihood"
      ],
      "execution_count": null,
      "outputs": []
    },
    {
      "cell_type": "code",
      "metadata": {
        "colab": {
          "base_uri": "https://localhost:8080/"
        },
        "id": "AZCiyNHimYN5",
        "outputId": "0b4576fb-5243-4262-fbc4-12d89ca7b371"
      },
      "source": [
        "# VERIFY - The value should be equal to -295.2806989185367 using X_train_1, y_2d_train, w, X_train_1.shape[0].\n",
        "print('Q08 - likelihood: ', likelihood(X_train_1, y_2d_train, w_init, X_train_1.shape[0]))"
      ],
      "execution_count": null,
      "outputs": [
        {
          "output_type": "stream",
          "name": "stdout",
          "text": [
            "Q08 - likelihood:  -295.2806989185367\n"
          ]
        }
      ]
    },
    {
      "cell_type": "code",
      "metadata": {
        "colab": {
          "base_uri": "https://localhost:8080/"
        },
        "id": "Pq0odkhQpnry",
        "outputId": "1974008b-5f4e-47ca-ac7d-01aa1ed96cc3"
      },
      "source": [
        "#Maximum Likelihood function with lasso regulization\n",
        "def lasso_likelihood(X_tr,y_tr, w, n, l):\n",
        "    y_hat = hypothesis(X_tr,w)\n",
        "    likelihood = ((y_tr * np.log(y_hat)) + ((1-y_tr) * np.log(1-y_hat))).sum() \n",
        "    lasso_likelihood = likelihood * (1/n) - l*(np.absolute(w[1:,:])).sum()\n",
        "    return lasso_likelihood\n",
        "\n",
        "def ridge_likelihood(X_tr,y_tr, w, n, l):\n",
        "    y_hat = hypothesis(X_tr,w)\n",
        "    likelihood = ((y_tr * np.log(y_hat)) + ((1-y_tr) * np.log(1-y_hat))).sum() \n",
        "    ridge_likelihood = likelihood * (1/n) - l*(np.square(w[1:,:])).sum()\n",
        "    return ridge_likelihood\n",
        "\n",
        "def derivative_ridge_likelihood(X_tr,y_tr,w, n, l):\n",
        "    y_hat = hypothesis(X_tr,w)\n",
        "    zeros = np.zeros((1,w.shape[1]))\n",
        "    derivative = (np.dot(X_train_1.T, (y_2d_train - y_hat))) * (1/n) - np.vstack((zeros,(2*l*w[1:,:])))\n",
        "    return derivative\n",
        "\n",
        "def Gradient_Ascent_Ridge(X_train_1, y_2d_train, learning_rate, l, num_iters):\n",
        "    # Number of training examples.\n",
        "    N = X_train_1.shape[0]\n",
        "    # Initialize w(<np.ndarray>). Zeros vector of shape X_train.shape[1],1\n",
        "    w = np.zeros((X_train_1.shape[1],1))\n",
        "    # Initiating list to store values of likelihood(<list>) after few iterations.\n",
        "    ridge_likelihood_values = []\n",
        "    for i in range(num_iters):\n",
        "        y_hat = hypothesis(X_train_1,w)\n",
        "        gradient = (np.dot(X_train_1.T, (y_2d_train - y_hat)))*(1/N) - (2*l*w)\n",
        "        # Updating Parameters\n",
        "        w = w + learning_rate * gradient / N\n",
        "        if (i % 100) == 0:\n",
        "            ridge_likelihood_values.append(likelihood(X_train_1,y_2d_train,w,N))\n",
        "        \n",
        "    return w, ridge_likelihood_values\n",
        "\n",
        "#I am going to use sklearn library to do this\n",
        "def cross_fold(X_unscaled, y, nfold):\n",
        "    npen = 20\n",
        "    C_test = np.logspace(-2,2,npen)\n",
        "\n",
        "    kf = KFold(n_splits=nfold,shuffle=True)\n",
        "    err_rate = np.zeros((npen,nfold))\n",
        "    num_nonzerocoef = np.zeros((npen,nfold))\n",
        "    \n",
        "    logreg = LogisticRegression(solver='liblinear', penalty='l2',warm_start=True)\n",
        "\n",
        "    # Loop over the folds in the cross-validation\n",
        "    for ifold, Ind in enumerate(kf.split(X_unscaled)):        \n",
        "                \n",
        "        # Get training and test data\n",
        "        Itr, Its = Ind\n",
        "        Xtr = X_unscaled[Itr,:]\n",
        "        ytr = y[Itr]\n",
        "        Xts = X_unscaled[Its,:]\n",
        "        yts = y[Its]\n",
        "        \n",
        "        scaler_KFold = preprocessing.StandardScaler()\n",
        "        Xtr= scaler_KFold.fit_transform(Xtr)\n",
        "        Xts = scaler_KFold.transform(Xts)\n",
        "        \n",
        "        # Loop over penalty levels\n",
        "        for ipen, c in enumerate(C_test):\n",
        "            \n",
        "            # Set the penalty level        \n",
        "            logreg.C= c\n",
        "        \n",
        "            # Fit a model on the training data\n",
        "            logreg.fit(Xtr, ytr)\n",
        "        \n",
        "            # Predict the labels on the test set.\n",
        "            yhat = logreg.predict(Xts)\n",
        "            \n",
        "            # Measure the accuracy\n",
        "            err_rate[ipen,ifold] = np.mean(yhat != yts)\n",
        "            num_nonzerocoef[ipen,ifold]=np.sum(abs(logreg.coef_)>0.001)\n",
        "\n",
        "        print(\"Fold %d\" % ifold)\n",
        "        \n",
        "    err_mean = np.mean(err_rate, axis=1)\n",
        "    num_nonzerocoef_mean = np.mean(num_nonzerocoef, axis=1)\n",
        "    err_se = np.std(err_rate,axis=1)/np.sqrt(nfold-1)\n",
        "    plt.errorbar(np.log10(C_test), err_mean, marker='o',yerr=err_se)\n",
        "    plt.ylim([0.02,0.05])\n",
        "    plt.grid()\n",
        "    plt.xlabel('log10(C)')\n",
        "    plt.ylabel('Error rate')\n",
        "\n",
        "    imin = np.argmin(err_mean)\n",
        "\n",
        "    print(\"The minimum test error rate = %12.4e, SE=%12.4e\" % (err_mean[imin], err_se[imin]))\n",
        "    print(\"The C value corresponding to minimum error = %12.4e\" % (C_test[imin]))\n",
        "\n",
        "\n",
        "cross_fold(X_unscaled,y,5)\n",
        "#print(lasso_likelihood(X_train_1,y_2d_train,w_init,X_train_1.shape[0],0.1))\n",
        "#print(ridge_likelihood(X_train_1,y_2d_train,w_init,X_train_1.shape[0],0.1))\n",
        "#print(derivative_ridge_likelihood(X_train_1,y_2d_train,w_init,X_train_1.shape[0],0.1))\n"
      ],
      "execution_count": null,
      "outputs": [
        {
          "output_type": "stream",
          "name": "stdout",
          "text": [
            "-0.6931471805599453\n",
            "-0.6931471805599453\n",
            "[[ 0.12910798]\n",
            " [-0.34474631]\n",
            " [-0.20171358]\n",
            " [-0.35116594]\n",
            " [-0.33338291]\n",
            " [-0.17892023]\n",
            " [-0.28171086]\n",
            " [-0.33045085]\n",
            " [-0.37415222]\n",
            " [-0.17498941]\n",
            " [ 0.01343712]\n",
            " [-0.26310996]\n",
            " [-0.00856968]\n",
            " [-0.25511148]\n",
            " [-0.24845598]\n",
            " [ 0.02307273]\n",
            " [-0.12678715]\n",
            " [-0.11841836]\n",
            " [-0.19111932]\n",
            " [-0.01233897]\n",
            " [-0.02511409]\n",
            " [-0.36815402]\n",
            " [-0.22683885]\n",
            " [-0.37174116]\n",
            " [-0.34641029]\n",
            " [-0.20211322]\n",
            " [-0.27815643]\n",
            " [-0.32049309]\n",
            " [-0.38009885]\n",
            " [-0.21383914]\n",
            " [-0.14011838]]\n"
          ]
        }
      ]
    },
    {
      "cell_type": "markdown",
      "metadata": {
        "id": "mpYWHKi7mYN6"
      },
      "source": [
        "# Gradient Ascent"
      ]
    },
    {
      "cell_type": "code",
      "metadata": {
        "collapsed": true,
        "id": "SyLQx6EQmYN6"
      },
      "source": [
        "# Write the gradient ascent function\n",
        "def Gradient_Ascent(X_train_1, y_2d_train, learning_rate, num_iters):\n",
        "    # Number of training examples.\n",
        "    N = X_train_1.shape[0]\n",
        "    # Initialize w(<np.ndarray>). Zeros vector of shape X_train.shape[1],1\n",
        "    w = np.zeros((X_train_1.shape[1],1))\n",
        "    # Initiating list to store values of likelihood(<list>) after few iterations.\n",
        "    likelihood_values = []\n",
        "    for i in range(num_iters):\n",
        "        y_hat = hypothesis(X_train_1,w)\n",
        "        error = ... #I do not know what type of error you want from me, F1 score? I am not doing this since we do not use this for the function \n",
        "        gradient = (np.dot(X_train_1.T, (y_2d_train - y_hat)))\n",
        "        # Updating Parameters\n",
        "        w = w + learning_rate * gradient / N\n",
        "        if (i % 100) == 0:\n",
        "            likelihood_values.append(likelihood(X_train_1,y_2d_train,w,N))\n",
        "        \n",
        "    return w, likelihood_values"
      ],
      "execution_count": null,
      "outputs": []
    },
    {
      "cell_type": "code",
      "metadata": {
        "id": "z3Iw9WvUmYN6"
      },
      "source": [
        "learning_rate = 0.001\n",
        "num_iters = 50000\n",
        "# Calculate w and likelihood values using Gradient_Ascent with X_train_1, y_2d_train\n",
        "w, likelihood_values = Gradient_Ascent(X_train_1,y_2d_train,learning_rate,num_iters)"
      ],
      "execution_count": null,
      "outputs": []
    },
    {
      "cell_type": "markdown",
      "metadata": {
        "id": "gDARK6C1mYN-"
      },
      "source": [
        "# Plotting Likelihood v/s Number of Iterations."
      ]
    },
    {
      "cell_type": "code",
      "metadata": {
        "scrolled": true,
        "colab": {
          "base_uri": "https://localhost:8080/",
          "height": 295
        },
        "id": "tg5utED2mYN-",
        "outputId": "b5315c15-1723-47b3-fb6e-846f1e7e12ac"
      },
      "source": [
        "# Run this cell to plot Likelihood v/s Number of Iterations.\n",
        "iters = np.array(range(0,num_iters,100))\n",
        "plt.plot(iters,likelihood_values,'.-',color='green')\n",
        "plt.xlabel('Number of iterations')\n",
        "plt.ylabel('Likelihood')\n",
        "plt.title(\"Likelihood vs Number of Iterations.\")\n",
        "plt.grid()\n",
        "plt.show(block=False)"
      ],
      "execution_count": null,
      "outputs": [
        {
          "output_type": "display_data",
          "data": {
            "image/png": "[encoded data removed]",
            "text/plain": [
              "<Figure size 432x288 with 1 Axes>"
            ]
          },
          "metadata": {
            "needs_background": "light"
          }
        }
      ]
    },
    {
      "cell_type": "markdown",
      "metadata": {
        "id": "AOll7OW4mYN_"
      },
      "source": [
        "You should see the likelihood increasing as number of Iterations increase."
      ]
    },
    {
      "cell_type": "code",
      "metadata": {
        "collapsed": true,
        "id": "cSN3EOr3mYN_"
      },
      "source": [
        "#since we are now predicting, instead of the probability, I will produce y_hat\n",
        "\n",
        "##def predict(X_train_1, w):\n",
        "##    def check(x):\n",
        "##        if (x>0):\n",
        "##            return (1)\n",
        "##        elif (x == 0):\n",
        "##            return (np.random.randint(0,2))\n",
        "##        else:\n",
        "##            return 0\n",
        "##    check_v = np.vectorize(check) \n",
        "##    y_hat = check_v(np.dot(X_train_1,w))\n",
        "##    return y_hat\n",
        "\n",
        "def predict(X_train_1,w):\n",
        "    v_sigmoid = np.vectorize(sigmoid)\n",
        "    y_hat = v_sigmoid(np.dot(X_train_1,w))\n",
        "    return y_hat"
      ],
      "execution_count": null,
      "outputs": []
    },
    {
      "cell_type": "code",
      "metadata": {
        "id": "OdSHv1ywmYN_"
      },
      "source": [
        "# Preidct y_hat using X_train_1 and w you just calculated\n",
        "y_hat = predict(X_train_1,w)"
      ],
      "execution_count": null,
      "outputs": []
    },
    {
      "cell_type": "code",
      "metadata": {
        "collapsed": true,
        "id": "72j8_V0UmYOA"
      },
      "source": [
        "# Write the precision_recall function\n",
        "def precision_recall(y_hat, y, threshold):  \n",
        "    # Before finding precision or recall, you have to convert y_hat into a vector of zeros and ones named y_hat_binary using threshold.\n",
        "    # Values in y_hat > threshold should be equal to 1 and others should be 0.\n",
        "    y_hat_binary = np.copy(y_hat)\n",
        "    # Convert values in y_hat_binary to binary values below\n",
        "    def check(x):\n",
        "        if (x>threshold):\n",
        "            return (1)\n",
        "            ##elif (x == threshold):\n",
        "            ##    return (np.random.randint(0,2))\n",
        "        else:\n",
        "            return (0)\n",
        "    check_v = np.vectorize(check) \n",
        "    \n",
        "    y_hat_binary = check_v(y_hat_binary)\n",
        "    #print(y_hat_binary)\n",
        "\n",
        "    # Calculate false positive and false negative using false difference\n",
        "    # HINT: false different can be calculated by subtracting hypothesis from actual value\n",
        "    # HINT: if done correctly, false_pos should be 4 and false_neg should be 2\n",
        "    false_difference = y_hat_binary - y\n",
        "    false_pos = (false_difference == 1).sum()\n",
        "    false_neg = (false_difference == -1).sum()\n",
        "\n",
        "\n",
        "\n",
        "    all_trues = np.ones((y.shape[0], 1)) \n",
        "    # Calculate true positive using all_trues and true difference\n",
        "    # HINT: true different can be calculated by subtracting sum of hypothesis and actual value from all trues\n",
        "    # HINT: if done correctly, true_pos should be 266\n",
        "    true_difference = y_hat_binary + y - all_trues\n",
        "    true_pos = (true_difference == 1).sum()\n",
        "\n",
        "\n",
        "    precision = true_pos / (true_pos+false_pos)\n",
        "    recall = true_pos / (true_pos+false_neg)\n",
        "    return precision,recall"
      ],
      "execution_count": null,
      "outputs": []
    },
    {
      "cell_type": "code",
      "metadata": {
        "colab": {
          "base_uri": "https://localhost:8080/"
        },
        "id": "fVjRvmx7mYOA",
        "outputId": "10e6ff00-442e-4b4e-9a5b-7054680b464d"
      },
      "source": [
        "# Calculate precision and recall using y_hat, y_2d_train and threshold of 0.5\n",
        "precision, recall = precision_recall(y_hat,y_2d_train,0.5)\n",
        "print('Q14 - precision: ', precision)\n",
        "print('Q14 - recall: ', recall)"
      ],
      "execution_count": null,
      "outputs": [
        {
          "output_type": "stream",
          "name": "stdout",
          "text": [
            "Q14 - precision:  0.9851851851851852\n",
            "Q14 - recall:  0.9925373134328358\n"
          ]
        }
      ]
    },
    {
      "cell_type": "code",
      "metadata": {
        "id": "-oLEk5HjmYOB"
      },
      "source": [
        "# Write the f_score function\n",
        "def f_score(precision, recall):\n",
        "    score = 2* (precision*recall)/(precision+recall)\n",
        "    return score"
      ],
      "execution_count": null,
      "outputs": []
    },
    {
      "cell_type": "markdown",
      "metadata": {
        "id": "MYVEgla9mYOB"
      },
      "source": [
        "# Fitting Model using Sk Learn Library. "
      ]
    },
    {
      "cell_type": "code",
      "metadata": {
        "collapsed": true,
        "id": "uc9N2GRlmYOB"
      },
      "source": [
        "logreg =  LogisticRegression(C=100000000)"
      ],
      "execution_count": null,
      "outputs": []
    },
    {
      "cell_type": "code",
      "metadata": {
        "colab": {
          "base_uri": "https://localhost:8080/"
        },
        "id": "qPUct1OemYOC",
        "outputId": "63385e43-c5f0-4396-9575-38f1cd2befa9"
      },
      "source": [
        "# Fit the model\n",
        "# Don't use matrix X_train_1. Instead, use x_train.\n",
        "logreg.fit(X_train,y_train)"
      ],
      "execution_count": null,
      "outputs": [
        {
          "output_type": "execute_result",
          "data": {
            "text/plain": [
              "LogisticRegression(C=100000000, class_weight=None, dual=False,\n",
              "                   fit_intercept=True, intercept_scaling=1, l1_ratio=None,\n",
              "                   max_iter=100, multi_class='auto', n_jobs=None, penalty='l2',\n",
              "                   random_state=None, solver='lbfgs', tol=0.0001, verbose=0,\n",
              "                   warm_start=False)"
            ]
          },
          "metadata": {},
          "execution_count": 112
        }
      ]
    },
    {
      "cell_type": "code",
      "metadata": {
        "colab": {
          "base_uri": "https://localhost:8080/"
        },
        "id": "IWc1GwNbmYOC",
        "outputId": "82d465ed-39f7-4522-89d4-dfcec1b6a9a2"
      },
      "source": [
        "# Find the predicted values on training set using logreg.predict\n",
        "y_hat_logreg = logreg.predict(X_train)\n",
        "# Find the accuracy achieved on training set using logreg.score and y_train as type of int\n",
        "acc_logreg = logreg.score(X_train,y_train) \n",
        "\n",
        "print(\"Q18 - Accuracy on training data = %f\" % acc_logreg)"
      ],
      "execution_count": null,
      "outputs": [
        {
          "output_type": "stream",
          "name": "stdout",
          "text": [
            "Q18 - Accuracy on training data = 1.000000\n"
          ]
        }
      ]
    },
    {
      "cell_type": "markdown",
      "metadata": {
        "deletable": false,
        "editable": false,
        "id": "bovpwP4kmYOC"
      },
      "source": [
        "<!-- BEGIN QUESTION -->\n",
        "\n",
        "<!--\n",
        "BEGIN QUESTION\n",
        "name: Q19\n",
        "manual: true\n",
        "points:\n",
        "  each: 1\n",
        "-->"
      ]
    },
    {
      "cell_type": "code",
      "metadata": {
        "id": "7DA5CYYEmYOD"
      },
      "source": [
        "# Print out all the coefficients\n",
        "w_logreg = logreg.coef_\n",
        "intercept_logreg = logreg.intercept_"
      ],
      "execution_count": null,
      "outputs": []
    },
    {
      "cell_type": "markdown",
      "metadata": {
        "deletable": false,
        "editable": false,
        "id": "working-noise"
      },
      "source": [
        "<!-- END QUESTION -->"
      ]
    },
    {
      "cell_type": "code",
      "metadata": {
        "colab": {
          "base_uri": "https://localhost:8080/"
        },
        "id": "YsHiWX0GmYOD",
        "outputId": "a7af8fbc-a657-408c-c02e-703cd881b8bd"
      },
      "source": [
        "# VERIFY - Compare the parameters computed by logreg model and gradient ascent. They should be nearly same.\n",
        "print('Q19 - w_logreg: ', w_logreg)\n",
        "print('Q19 - intercept_logreg: ', intercept_logreg)"
      ],
      "execution_count": null,
      "outputs": [
        {
          "output_type": "stream",
          "name": "stdout",
          "text": [
            "Q19 - w_logreg:  [[  22.20354939  -21.44100978   59.16839412    1.2115979   -42.19697283\n",
            "   360.63887807 -106.3087013  -289.5216613    96.40386209 -194.28626767\n",
            "  -369.06429646   58.89312117   67.54079586 -215.07334324  -61.69597975\n",
            "   -88.60037689   61.79893125 -123.45994937  151.76554756  248.38541764\n",
            "  -133.50997508 -157.07474867   87.07454329 -136.95118586  102.92812654\n",
            "    94.88367681 -274.99164994  -62.66130469 -268.3824686     8.12051949]]\n",
            "Q19 - intercept_logreg:  [-44.50369833]\n"
          ]
        }
      ]
    },
    {
      "cell_type": "markdown",
      "metadata": {
        "id": "d-uh4KnvmYOD"
      },
      "source": [
        "# Performance Metrics:\n"
      ]
    },
    {
      "cell_type": "code",
      "metadata": {
        "id": "gBfAdmBTmYOD"
      },
      "source": [
        "from sklearn.metrics import precision_recall_fscore_support\n",
        "# Find Precision, recall and fscore using precision_recall_fscore_support nethod of sklearn\n",
        "# Using y_train and y_hat_logreg\n",
        "temp = precision_recall_fscore_support(y_train,y_hat_logreg)\n",
        "prec = temp[0]\n",
        "recal = temp[1]\n",
        "fscore = temp[2]"
      ],
      "execution_count": null,
      "outputs": []
    },
    {
      "cell_type": "code",
      "metadata": {
        "colab": {
          "base_uri": "https://localhost:8080/"
        },
        "id": "WAeb3L3xmYOE",
        "outputId": "73ec117d-2560-4742-dd13-0e910551be48"
      },
      "source": [
        "# VERIFY\n",
        "print('Q20 - prec: ', prec)\n",
        "print('Q20 - recal: ', recal)\n",
        "print('Q20 - fscore: ', fscore)"
      ],
      "execution_count": null,
      "outputs": [
        {
          "output_type": "stream",
          "name": "stdout",
          "text": [
            "Q20 - prec:  [1. 1.]\n",
            "Q20 - recal:  [1. 1.]\n",
            "Q20 - fscore:  [1. 1.]\n"
          ]
        }
      ]
    }
  ]
}